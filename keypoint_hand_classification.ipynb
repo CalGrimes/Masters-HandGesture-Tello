{
 "cells": [
  {
   "attachments": {},
   "cell_type": "markdown",
   "id": "b40c1326-ba40-42e1-94a2-bbb10a94dd12",
   "metadata": {},
   "source": [
    "# Keypoint Classification for Hand Gesture Recognition"
   ]
  },
  {
   "attachments": {},
   "cell_type": "markdown",
   "id": "a86ef4e2",
   "metadata": {},
   "source": [
    "https://github.com/kinivi/tello-gesture-control#Gesture-control\n",
    "\n",
    "https://github.com/Kazuhito00/hand-gesture-recognition-using-mediapipe/tree/main"
   ]
  },
  {
   "attachments": {},
   "cell_type": "markdown",
   "id": "f3f15996-b51b-409f-b642-935c4d1b1528",
   "metadata": {},
   "source": [
    "## Import Necessary Dependacies"
   ]
  },
  {
   "cell_type": "code",
   "execution_count": 93,
   "id": "60a7faff-31a3-4a18-a43d-bd13c0b8a06b",
   "metadata": {
    "tags": []
   },
   "outputs": [],
   "source": [
    "import numpy as np\n",
    "import pandas as pd\n",
    "\n",
    "import tensorflow as tf\n",
    "from sklearn.model_selection import train_test_split\n",
    "from sklearn.metrics import classification_report, confusion_matrix\n",
    "\n",
    "import os \n",
    "\n",
    "import matplotlib.pyplot as plt\n",
    "import seaborn as sns\n"
   ]
  },
  {
   "attachments": {},
   "cell_type": "markdown",
   "id": "97d67a49-6eee-49f6-9cd6-23e66a8325d2",
   "metadata": {},
   "source": [
    "## Paths"
   ]
  },
  {
   "cell_type": "code",
   "execution_count": 94,
   "id": "08b138e5-7ee5-46a1-8960-ca9caf6e8c27",
   "metadata": {},
   "outputs": [],
   "source": [
    "keypoint_dataset = 'data/keypoint.csv'\n",
    "model_save_path = 'model/keypoint_classifier/keypoint_classifier.hdf5'"
   ]
  },
  {
   "attachments": {},
   "cell_type": "markdown",
   "id": "d92de116-c5e9-4542-881e-298a844d8d9b",
   "metadata": {},
   "source": [
    "## Load the Training Data"
   ]
  },
  {
   "cell_type": "code",
   "execution_count": 95,
   "id": "e8ce647a-e36f-423d-92e2-ac4f61ba3515",
   "metadata": {},
   "outputs": [],
   "source": [
    "X_dataset = np.loadtxt(keypoint_dataset, delimiter=',', dtype='float32', usecols=list(range(1, (21 * 2) + 1)))\n",
    "y_dataset = np.loadtxt(keypoint_dataset, delimiter=',', dtype='int32', usecols=(0))"
   ]
  },
  {
   "attachments": {},
   "cell_type": "markdown",
   "id": "3a814def-3812-4f44-8f85-6296bd01850f",
   "metadata": {},
   "source": [
    "## Splitting the data"
   ]
  },
  {
   "cell_type": "code",
   "execution_count": 96,
   "id": "0a303c3f-5687-46b6-94ae-ab379ef8dd3a",
   "metadata": {},
   "outputs": [],
   "source": [
    "# 75% 25% split\n",
    "X_train, X_test, y_train, y_test = train_test_split(X_dataset, y_dataset, train_size=0.75, random_state=34)"
   ]
  },
  {
   "cell_type": "code",
   "execution_count": 97,
   "id": "b03326de",
   "metadata": {},
   "outputs": [
    {
     "name": "stdout",
     "output_type": "stream",
     "text": [
      "(array([0, 1]), array([1522, 1572], dtype=int64))\n"
     ]
    },
    {
     "data": {
      "image/png": "[encoded data removed]",
      "text/plain": [
       "<Figure size 640x480 with 1 Axes>"
      ]
     },
     "metadata": {},
     "output_type": "display_data"
    }
   ],
   "source": [
    "# Classes count\n",
    "counts = np.unique(y_dataset, return_counts=True)\n",
    "df = pd.DataFrame(counts)\n",
    "df.T.plot(kind=\"bar\", stacked=True)\n",
    "print(counts)"
   ]
  },
  {
   "attachments": {},
   "cell_type": "markdown",
   "id": "6fe16a26-f52d-4e88-b568-635067506129",
   "metadata": {},
   "source": [
    "## Building the model"
   ]
  },
  {
   "cell_type": "code",
   "execution_count": 98,
   "id": "2ce5d342-1802-49b6-b5d1-dcfa859c63f9",
   "metadata": {},
   "outputs": [],
   "source": [
    "NUM_CLASSES = 2"
   ]
  },
  {
   "cell_type": "markdown",
   "id": "a110b24d",
   "metadata": {},
   "source": [
    "### Feedforward Neural Network"
   ]
  },
  {
   "cell_type": "code",
   "execution_count": 99,
   "id": "94ba9bd0-ffae-4f19-a8fd-4a3687ae7615",
   "metadata": {},
   "outputs": [],
   "source": [
    "# model = tf.keras.models.Sequential([\n",
    "#     tf.keras.layers.Input((21 * 2, )),\n",
    "#     tf.keras.layers.Dropout(0.0),\n",
    "#     tf.keras.layers.Dense(32, activation='relu'),\n",
    "#     tf.keras.layers.Dropout(0.0),\n",
    "#     tf.keras.layers.Dense(32, activation='relu'),\n",
    "#     tf.keras.layers.Dropout(0.0),\n",
    "#     tf.keras.layers.Dense(16, activation='relu'),\n",
    "#     tf.keras.layers.Dense(NUM_CLASSES, activation='softmax')\n",
    "# ])"
   ]
  },
  {
   "cell_type": "code",
   "execution_count": 100,
   "id": "7607283e",
   "metadata": {},
   "outputs": [],
   "source": [
    "model = tf.keras.models.Sequential([\n",
    "    tf.keras.layers.Input((21 * 2, )),\n",
    "    tf.keras.layers.Dropout(0.2),\n",
    "    tf.keras.layers.Dense(32, activation='relu'),\n",
    "    tf.keras.layers.Dropout(0.5),\n",
    "    tf.keras.layers.Dense(32, activation='relu'),\n",
    "    tf.keras.layers.Dropout(0.2),\n",
    "    tf.keras.layers.Dense(16, activation='relu'),\n",
    "    tf.keras.layers.Dense(NUM_CLASSES, activation='softmax')\n",
    "])"
   ]
  },
  {
   "cell_type": "code",
   "execution_count": 101,
   "id": "f361270c-0682-4d7e-9bcb-27b8d4a59ed6",
   "metadata": {},
   "outputs": [
    {
     "name": "stdout",
     "output_type": "stream",
     "text": [
      "Model: \"sequential_3\"\n",
      "_________________________________________________________________\n",
      " Layer (type)                Output Shape              Param #   \n",
      "=================================================================\n",
      " dropout_10 (Dropout)        (None, 42)                0         \n",
      "                                                                 \n",
      " dense_12 (Dense)            (None, 32)                1376      \n",
      "                                                                 \n",
      " dropout_11 (Dropout)        (None, 32)                0         \n",
      "                                                                 \n",
      " dense_13 (Dense)            (None, 32)                1056      \n",
      "                                                                 \n",
      " dropout_12 (Dropout)        (None, 32)                0         \n",
      "                                                                 \n",
      " dense_14 (Dense)            (None, 16)                528       \n",
      "                                                                 \n",
      " dense_15 (Dense)            (None, 2)                 34        \n",
      "                                                                 \n",
      "=================================================================\n",
      "Total params: 2,994\n",
      "Trainable params: 2,994\n",
      "Non-trainable params: 0\n",
      "_________________________________________________________________\n"
     ]
    }
   ],
   "source": [
    "model.summary() "
   ]
  },
  {
   "cell_type": "code",
   "execution_count": 102,
   "id": "7f51fc8a-ec4f-4ecf-9224-f0814e5c215c",
   "metadata": {},
   "outputs": [],
   "source": [
    "# Model Checkpoints\n",
    "# This callback will save the weights of the model every epoch\n",
    "cp_callback = tf.keras.callbacks.ModelCheckpoint(\n",
    "    model_save_path, verbose=1, save_weights_only=False)\n",
    "    \n",
    "# Early Stopping\n",
    "es_callback = tf.keras.callbacks.EarlyStopping(patience=10, verbose=1)"
   ]
  },
  {
   "cell_type": "code",
   "execution_count": 103,
   "id": "624a3419-b317-432f-911b-a07d9e3bf994",
   "metadata": {},
   "outputs": [],
   "source": [
    "# Model Compilation\n",
    "model.compile(\n",
    "    optimizer='adam',\n",
    "    loss='sparse_categorical_crossentropy',\n",
    "    metrics=['accuracy']\n",
    ")"
   ]
  },
  {
   "attachments": {},
   "cell_type": "markdown",
   "id": "790c3b71-4603-4a00-b4c8-68993205bb3f",
   "metadata": {},
   "source": [
    "## Training the model"
   ]
  },
  {
   "cell_type": "code",
   "execution_count": 104,
   "id": "cab54a32-bdd0-403a-a958-5b89ea02e1d2",
   "metadata": {},
   "outputs": [
    {
     "name": "stdout",
     "output_type": "stream",
     "text": [
      "Epoch 1/550\n"
     ]
    },
    {
     "name": "stdout",
     "output_type": "stream",
     "text": [
      "15/19 [======================>.......] - ETA: 0s - loss: 0.7069 - accuracy: 0.5167 \n",
      "Epoch 1: saving model to model/keypoint_classifier\\keypoint_classifier.hdf5\n",
      "19/19 [==============================] - 2s 31ms/step - loss: 0.7022 - accuracy: 0.5203 - val_loss: 0.6613 - val_accuracy: 0.6253\n",
      "Epoch 2/550\n",
      "16/19 [========================>.....] - ETA: 0s - loss: 0.6716 - accuracy: 0.5977\n",
      "Epoch 2: saving model to model/keypoint_classifier\\keypoint_classifier.hdf5\n",
      "19/19 [==============================] - 0s 9ms/step - loss: 0.6700 - accuracy: 0.5957 - val_loss: 0.6457 - val_accuracy: 0.6615\n",
      "Epoch 3/550\n",
      "17/19 [=========================>....] - ETA: 0s - loss: 0.6536 - accuracy: 0.6163\n",
      "Epoch 3: saving model to model/keypoint_classifier\\keypoint_classifier.hdf5\n",
      "19/19 [==============================] - 0s 9ms/step - loss: 0.6539 - accuracy: 0.6129 - val_loss: 0.6148 - val_accuracy: 0.7739\n",
      "Epoch 4/550\n",
      "17/19 [=========================>....] - ETA: 0s - loss: 0.6298 - accuracy: 0.6512\n",
      "Epoch 4: saving model to model/keypoint_classifier\\keypoint_classifier.hdf5\n",
      "19/19 [==============================] - 0s 9ms/step - loss: 0.6302 - accuracy: 0.6509 - val_loss: 0.5671 - val_accuracy: 0.8075\n",
      "Epoch 5/550\n",
      "14/19 [=====================>........] - ETA: 0s - loss: 0.6026 - accuracy: 0.6897\n",
      "Epoch 5: saving model to model/keypoint_classifier\\keypoint_classifier.hdf5\n",
      "19/19 [==============================] - 0s 10ms/step - loss: 0.5974 - accuracy: 0.6922 - val_loss: 0.5070 - val_accuracy: 0.8217\n",
      "Epoch 6/550\n",
      "15/19 [======================>.......] - ETA: 0s - loss: 0.5615 - accuracy: 0.7161\n",
      "Epoch 6: saving model to model/keypoint_classifier\\keypoint_classifier.hdf5\n",
      "19/19 [==============================] - 0s 9ms/step - loss: 0.5498 - accuracy: 0.7237 - val_loss: 0.4279 - val_accuracy: 0.8902\n",
      "Epoch 7/550\n",
      "15/19 [======================>.......] - ETA: 0s - loss: 0.5177 - accuracy: 0.7349\n",
      "Epoch 7: saving model to model/keypoint_classifier\\keypoint_classifier.hdf5\n",
      "19/19 [==============================] - 0s 9ms/step - loss: 0.5170 - accuracy: 0.7358 - val_loss: 0.3516 - val_accuracy: 0.9225\n",
      "Epoch 8/550\n",
      "17/19 [=========================>....] - ETA: 0s - loss: 0.4865 - accuracy: 0.7578\n",
      "Epoch 8: saving model to model/keypoint_classifier\\keypoint_classifier.hdf5\n",
      "19/19 [==============================] - 0s 9ms/step - loss: 0.4850 - accuracy: 0.7603 - val_loss: 0.3024 - val_accuracy: 0.9380\n",
      "Epoch 9/550\n",
      "16/19 [========================>.....] - ETA: 0s - loss: 0.4493 - accuracy: 0.7896\n",
      "Epoch 9: saving model to model/keypoint_classifier\\keypoint_classifier.hdf5\n",
      "19/19 [==============================] - 0s 9ms/step - loss: 0.4525 - accuracy: 0.7888 - val_loss: 0.2665 - val_accuracy: 0.9354\n",
      "Epoch 10/550\n",
      "13/19 [===================>..........] - ETA: 0s - loss: 0.4280 - accuracy: 0.7975\n",
      "Epoch 10: saving model to model/keypoint_classifier\\keypoint_classifier.hdf5\n",
      "19/19 [==============================] - 0s 11ms/step - loss: 0.4279 - accuracy: 0.7961 - val_loss: 0.2413 - val_accuracy: 0.9341\n",
      "Epoch 11/550\n",
      "15/19 [======================>.......] - ETA: 0s - loss: 0.4181 - accuracy: 0.8010\n",
      "Epoch 11: saving model to model/keypoint_classifier\\keypoint_classifier.hdf5\n",
      "19/19 [==============================] - 0s 10ms/step - loss: 0.4106 - accuracy: 0.8069 - val_loss: 0.2167 - val_accuracy: 0.9509\n",
      "Epoch 12/550\n",
      "17/19 [=========================>....] - ETA: 0s - loss: 0.3900 - accuracy: 0.8290\n",
      "Epoch 12: saving model to model/keypoint_classifier\\keypoint_classifier.hdf5\n",
      "19/19 [==============================] - 0s 9ms/step - loss: 0.3915 - accuracy: 0.8272 - val_loss: 0.1987 - val_accuracy: 0.9522\n",
      "Epoch 13/550\n",
      "16/19 [========================>.....] - ETA: 0s - loss: 0.3771 - accuracy: 0.8247\n",
      "Epoch 13: saving model to model/keypoint_classifier\\keypoint_classifier.hdf5\n",
      "19/19 [==============================] - 0s 9ms/step - loss: 0.3740 - accuracy: 0.8272 - val_loss: 0.1894 - val_accuracy: 0.9483\n",
      "Epoch 14/550\n",
      "15/19 [======================>.......] - ETA: 0s - loss: 0.3519 - accuracy: 0.8406\n",
      "Epoch 14: saving model to model/keypoint_classifier\\keypoint_classifier.hdf5\n",
      "19/19 [==============================] - 0s 10ms/step - loss: 0.3481 - accuracy: 0.8414 - val_loss: 0.1736 - val_accuracy: 0.9625\n",
      "Epoch 15/550\n",
      "16/19 [========================>.....] - ETA: 0s - loss: 0.3548 - accuracy: 0.8433\n",
      "Epoch 15: saving model to model/keypoint_classifier\\keypoint_classifier.hdf5\n",
      "19/19 [==============================] - 0s 10ms/step - loss: 0.3593 - accuracy: 0.8444 - val_loss: 0.1538 - val_accuracy: 0.9716\n",
      "Epoch 16/550\n",
      "14/19 [=====================>........] - ETA: 0s - loss: 0.3276 - accuracy: 0.8599\n",
      "Epoch 16: saving model to model/keypoint_classifier\\keypoint_classifier.hdf5\n",
      "19/19 [==============================] - 0s 11ms/step - loss: 0.3335 - accuracy: 0.8565 - val_loss: 0.1465 - val_accuracy: 0.9742\n",
      "Epoch 17/550\n",
      "14/19 [=====================>........] - ETA: 0s - loss: 0.3160 - accuracy: 0.8677\n",
      "Epoch 17: saving model to model/keypoint_classifier\\keypoint_classifier.hdf5\n",
      "19/19 [==============================] - 0s 10ms/step - loss: 0.3192 - accuracy: 0.8668 - val_loss: 0.1443 - val_accuracy: 0.9767\n",
      "Epoch 18/550\n",
      "14/19 [=====================>........] - ETA: 0s - loss: 0.3066 - accuracy: 0.8638\n",
      "Epoch 18: saving model to model/keypoint_classifier\\keypoint_classifier.hdf5\n",
      "19/19 [==============================] - 0s 11ms/step - loss: 0.3197 - accuracy: 0.8591 - val_loss: 0.1420 - val_accuracy: 0.9742\n",
      "Epoch 19/550\n",
      "14/19 [=====================>........] - ETA: 0s - loss: 0.3304 - accuracy: 0.8650\n",
      "Epoch 19: saving model to model/keypoint_classifier\\keypoint_classifier.hdf5\n",
      "19/19 [==============================] - 0s 11ms/step - loss: 0.3208 - accuracy: 0.8681 - val_loss: 0.1399 - val_accuracy: 0.9677\n",
      "Epoch 20/550\n",
      "14/19 [=====================>........] - ETA: 0s - loss: 0.2848 - accuracy: 0.8823\n",
      "Epoch 20: saving model to model/keypoint_classifier\\keypoint_classifier.hdf5\n",
      "19/19 [==============================] - 0s 10ms/step - loss: 0.2929 - accuracy: 0.8759 - val_loss: 0.1212 - val_accuracy: 0.9780\n",
      "Epoch 21/550\n",
      "17/19 [=========================>....] - ETA: 0s - loss: 0.2854 - accuracy: 0.8805\n",
      "Epoch 21: saving model to model/keypoint_classifier\\keypoint_classifier.hdf5\n",
      "19/19 [==============================] - 0s 9ms/step - loss: 0.2885 - accuracy: 0.8789 - val_loss: 0.1174 - val_accuracy: 0.9742\n",
      "Epoch 22/550\n",
      "18/19 [===========================>..] - ETA: 0s - loss: 0.2857 - accuracy: 0.8828\n",
      "Epoch 22: saving model to model/keypoint_classifier\\keypoint_classifier.hdf5\n",
      "19/19 [==============================] - 0s 9ms/step - loss: 0.2848 - accuracy: 0.8828 - val_loss: 0.1112 - val_accuracy: 0.9755\n",
      "Epoch 23/550\n",
      "14/19 [=====================>........] - ETA: 0s - loss: 0.2646 - accuracy: 0.8923\n",
      "Epoch 23: saving model to model/keypoint_classifier\\keypoint_classifier.hdf5\n",
      "19/19 [==============================] - 0s 10ms/step - loss: 0.2812 - accuracy: 0.8879 - val_loss: 0.1096 - val_accuracy: 0.9767\n",
      "Epoch 24/550\n",
      "14/19 [=====================>........] - ETA: 0s - loss: 0.2825 - accuracy: 0.8862\n",
      "Epoch 24: saving model to model/keypoint_classifier\\keypoint_classifier.hdf5\n",
      "19/19 [==============================] - 0s 10ms/step - loss: 0.2735 - accuracy: 0.8892 - val_loss: 0.1102 - val_accuracy: 0.9832\n",
      "Epoch 25/550\n",
      "16/19 [========================>.....] - ETA: 0s - loss: 0.2662 - accuracy: 0.8965\n",
      "Epoch 25: saving model to model/keypoint_classifier\\keypoint_classifier.hdf5\n",
      "19/19 [==============================] - 0s 9ms/step - loss: 0.2616 - accuracy: 0.8978 - val_loss: 0.1057 - val_accuracy: 0.9858\n",
      "Epoch 26/550\n",
      "15/19 [======================>.......] - ETA: 0s - loss: 0.2718 - accuracy: 0.8854\n",
      "Epoch 26: saving model to model/keypoint_classifier\\keypoint_classifier.hdf5\n",
      "19/19 [==============================] - 0s 9ms/step - loss: 0.2725 - accuracy: 0.8871 - val_loss: 0.1138 - val_accuracy: 0.9806\n",
      "Epoch 27/550\n",
      "14/19 [=====================>........] - ETA: 0s - loss: 0.3044 - accuracy: 0.8772\n",
      "Epoch 27: saving model to model/keypoint_classifier\\keypoint_classifier.hdf5\n",
      "19/19 [==============================] - 0s 10ms/step - loss: 0.2926 - accuracy: 0.8806 - val_loss: 0.1164 - val_accuracy: 0.9767\n",
      "Epoch 28/550\n",
      "14/19 [=====================>........] - ETA: 0s - loss: 0.2546 - accuracy: 0.8923\n",
      "Epoch 28: saving model to model/keypoint_classifier\\keypoint_classifier.hdf5\n",
      "19/19 [==============================] - 0s 10ms/step - loss: 0.2583 - accuracy: 0.8905 - val_loss: 0.1016 - val_accuracy: 0.9806\n",
      "Epoch 29/550\n",
      "16/19 [========================>.....] - ETA: 0s - loss: 0.2545 - accuracy: 0.8960\n",
      "Epoch 29: saving model to model/keypoint_classifier\\keypoint_classifier.hdf5\n",
      "19/19 [==============================] - 0s 10ms/step - loss: 0.2617 - accuracy: 0.8918 - val_loss: 0.1003 - val_accuracy: 0.9819\n",
      "Epoch 30/550\n",
      "15/19 [======================>.......] - ETA: 0s - loss: 0.2540 - accuracy: 0.8969\n",
      "Epoch 30: saving model to model/keypoint_classifier\\keypoint_classifier.hdf5\n",
      "19/19 [==============================] - 0s 10ms/step - loss: 0.2534 - accuracy: 0.8978 - val_loss: 0.1011 - val_accuracy: 0.9845\n",
      "Epoch 31/550\n",
      "16/19 [========================>.....] - ETA: 0s - loss: 0.2452 - accuracy: 0.8882\n",
      "Epoch 31: saving model to model/keypoint_classifier\\keypoint_classifier.hdf5\n",
      "19/19 [==============================] - 0s 10ms/step - loss: 0.2467 - accuracy: 0.8905 - val_loss: 0.0937 - val_accuracy: 0.9832\n",
      "Epoch 32/550\n",
      "12/19 [=================>............] - ETA: 0s - loss: 0.2376 - accuracy: 0.9076\n",
      "Epoch 32: saving model to model/keypoint_classifier\\keypoint_classifier.hdf5\n",
      "19/19 [==============================] - 0s 12ms/step - loss: 0.2378 - accuracy: 0.9043 - val_loss: 0.0877 - val_accuracy: 0.9871\n",
      "Epoch 33/550\n",
      "15/19 [======================>.......] - ETA: 0s - loss: 0.2323 - accuracy: 0.9078\n",
      "Epoch 33: saving model to model/keypoint_classifier\\keypoint_classifier.hdf5\n",
      "19/19 [==============================] - 0s 10ms/step - loss: 0.2346 - accuracy: 0.9026 - val_loss: 0.0876 - val_accuracy: 0.9884\n",
      "Epoch 34/550\n",
      "14/19 [=====================>........] - ETA: 0s - loss: 0.2451 - accuracy: 0.9035\n",
      "Epoch 34: saving model to model/keypoint_classifier\\keypoint_classifier.hdf5\n",
      "19/19 [==============================] - 0s 10ms/step - loss: 0.2418 - accuracy: 0.9034 - val_loss: 0.0909 - val_accuracy: 0.9871\n",
      "Epoch 35/550\n",
      "13/19 [===================>..........] - ETA: 0s - loss: 0.2715 - accuracy: 0.8918\n",
      "Epoch 35: saving model to model/keypoint_classifier\\keypoint_classifier.hdf5\n",
      "19/19 [==============================] - 0s 10ms/step - loss: 0.2620 - accuracy: 0.8948 - val_loss: 0.0907 - val_accuracy: 0.9897\n",
      "Epoch 36/550\n",
      "15/19 [======================>.......] - ETA: 0s - loss: 0.2745 - accuracy: 0.8849\n",
      "Epoch 36: saving model to model/keypoint_classifier\\keypoint_classifier.hdf5\n",
      "19/19 [==============================] - 0s 10ms/step - loss: 0.2735 - accuracy: 0.8862 - val_loss: 0.1019 - val_accuracy: 0.9819\n",
      "Epoch 37/550\n",
      "14/19 [=====================>........] - ETA: 0s - loss: 0.2413 - accuracy: 0.9012\n",
      "Epoch 37: saving model to model/keypoint_classifier\\keypoint_classifier.hdf5\n",
      "19/19 [==============================] - 0s 10ms/step - loss: 0.2586 - accuracy: 0.8957 - val_loss: 0.0977 - val_accuracy: 0.9806\n",
      "Epoch 38/550\n",
      "12/19 [=================>............] - ETA: 0s - loss: 0.2290 - accuracy: 0.9095\n",
      "Epoch 38: saving model to model/keypoint_classifier\\keypoint_classifier.hdf5\n",
      "19/19 [==============================] - 0s 11ms/step - loss: 0.2314 - accuracy: 0.9082 - val_loss: 0.0891 - val_accuracy: 0.9897\n",
      "Epoch 39/550\n",
      "13/19 [===================>..........] - ETA: 0s - loss: 0.2255 - accuracy: 0.9129\n",
      "Epoch 39: saving model to model/keypoint_classifier\\keypoint_classifier.hdf5\n",
      "19/19 [==============================] - 0s 11ms/step - loss: 0.2309 - accuracy: 0.9099 - val_loss: 0.0887 - val_accuracy: 0.9871\n",
      "Epoch 40/550\n",
      "12/19 [=================>............] - ETA: 0s - loss: 0.2341 - accuracy: 0.9102\n",
      "Epoch 40: saving model to model/keypoint_classifier\\keypoint_classifier.hdf5\n",
      "19/19 [==============================] - 0s 11ms/step - loss: 0.2428 - accuracy: 0.9069 - val_loss: 0.0864 - val_accuracy: 0.9922\n",
      "Epoch 41/550\n",
      "10/19 [==============>...............] - ETA: 0s - loss: 0.2356 - accuracy: 0.9070\n",
      "Epoch 41: saving model to model/keypoint_classifier\\keypoint_classifier.hdf5\n",
      "19/19 [==============================] - 0s 11ms/step - loss: 0.2353 - accuracy: 0.9047 - val_loss: 0.0897 - val_accuracy: 0.9871\n",
      "Epoch 42/550\n",
      "16/19 [========================>.....] - ETA: 0s - loss: 0.2375 - accuracy: 0.9053\n",
      "Epoch 42: saving model to model/keypoint_classifier\\keypoint_classifier.hdf5\n",
      "19/19 [==============================] - 0s 9ms/step - loss: 0.2378 - accuracy: 0.9052 - val_loss: 0.0917 - val_accuracy: 0.9897\n",
      "Epoch 43/550\n",
      "17/19 [=========================>....] - ETA: 0s - loss: 0.2327 - accuracy: 0.9026\n",
      "Epoch 43: saving model to model/keypoint_classifier\\keypoint_classifier.hdf5\n",
      "19/19 [==============================] - 0s 9ms/step - loss: 0.2279 - accuracy: 0.9060 - val_loss: 0.0845 - val_accuracy: 0.9935\n",
      "Epoch 44/550\n",
      "17/19 [=========================>....] - ETA: 0s - loss: 0.2186 - accuracy: 0.9118\n",
      "Epoch 44: saving model to model/keypoint_classifier\\keypoint_classifier.hdf5\n",
      "19/19 [==============================] - 0s 10ms/step - loss: 0.2189 - accuracy: 0.9129 - val_loss: 0.0861 - val_accuracy: 0.9884\n",
      "Epoch 45/550\n",
      "15/19 [======================>.......] - ETA: 0s - loss: 0.2224 - accuracy: 0.9151\n",
      "Epoch 45: saving model to model/keypoint_classifier\\keypoint_classifier.hdf5\n",
      "19/19 [==============================] - 0s 10ms/step - loss: 0.2215 - accuracy: 0.9172 - val_loss: 0.0824 - val_accuracy: 0.9922\n",
      "Epoch 46/550\n",
      "15/19 [======================>.......] - ETA: 0s - loss: 0.2267 - accuracy: 0.9016\n",
      "Epoch 46: saving model to model/keypoint_classifier\\keypoint_classifier.hdf5\n",
      "19/19 [==============================] - 0s 10ms/step - loss: 0.2191 - accuracy: 0.9069 - val_loss: 0.0774 - val_accuracy: 0.9935\n",
      "Epoch 47/550\n",
      "13/19 [===================>..........] - ETA: 0s - loss: 0.2167 - accuracy: 0.9117\n",
      "Epoch 47: saving model to model/keypoint_classifier\\keypoint_classifier.hdf5\n",
      "19/19 [==============================] - 0s 10ms/step - loss: 0.2199 - accuracy: 0.9099 - val_loss: 0.0802 - val_accuracy: 0.9922\n",
      "Epoch 48/550\n",
      "17/19 [=========================>....] - ETA: 0s - loss: 0.2367 - accuracy: 0.9049\n",
      "Epoch 48: saving model to model/keypoint_classifier\\keypoint_classifier.hdf5\n",
      "19/19 [==============================] - 0s 10ms/step - loss: 0.2322 - accuracy: 0.9069 - val_loss: 0.0837 - val_accuracy: 0.9922\n",
      "Epoch 49/550\n",
      "14/19 [=====================>........] - ETA: 0s - loss: 0.2146 - accuracy: 0.9135\n",
      "Epoch 49: saving model to model/keypoint_classifier\\keypoint_classifier.hdf5\n",
      "19/19 [==============================] - 0s 10ms/step - loss: 0.2172 - accuracy: 0.9125 - val_loss: 0.0813 - val_accuracy: 0.9922\n",
      "Epoch 50/550\n",
      "15/19 [======================>.......] - ETA: 0s - loss: 0.2143 - accuracy: 0.9083\n",
      "Epoch 50: saving model to model/keypoint_classifier\\keypoint_classifier.hdf5\n",
      "19/19 [==============================] - 0s 11ms/step - loss: 0.2153 - accuracy: 0.9095 - val_loss: 0.0784 - val_accuracy: 0.9935\n",
      "Epoch 51/550\n",
      "13/19 [===================>..........] - ETA: 0s - loss: 0.1874 - accuracy: 0.9279\n",
      "Epoch 51: saving model to model/keypoint_classifier\\keypoint_classifier.hdf5\n",
      "19/19 [==============================] - 0s 11ms/step - loss: 0.2014 - accuracy: 0.9211 - val_loss: 0.0761 - val_accuracy: 0.9935\n",
      "Epoch 52/550\n",
      "13/19 [===================>..........] - ETA: 0s - loss: 0.2113 - accuracy: 0.9123\n",
      "Epoch 52: saving model to model/keypoint_classifier\\keypoint_classifier.hdf5\n",
      "19/19 [==============================] - 0s 11ms/step - loss: 0.2102 - accuracy: 0.9164 - val_loss: 0.0692 - val_accuracy: 0.9935\n",
      "Epoch 53/550\n",
      "14/19 [=====================>........] - ETA: 0s - loss: 0.2313 - accuracy: 0.9090\n",
      "Epoch 53: saving model to model/keypoint_classifier\\keypoint_classifier.hdf5\n",
      "19/19 [==============================] - 0s 10ms/step - loss: 0.2279 - accuracy: 0.9069 - val_loss: 0.0794 - val_accuracy: 0.9922\n",
      "Epoch 54/550\n",
      "14/19 [=====================>........] - ETA: 0s - loss: 0.2179 - accuracy: 0.9152\n",
      "Epoch 54: saving model to model/keypoint_classifier\\keypoint_classifier.hdf5\n",
      "19/19 [==============================] - 0s 10ms/step - loss: 0.2142 - accuracy: 0.9159 - val_loss: 0.0778 - val_accuracy: 0.9935\n",
      "Epoch 55/550\n",
      "16/19 [========================>.....] - ETA: 0s - loss: 0.2117 - accuracy: 0.9170\n",
      "Epoch 55: saving model to model/keypoint_classifier\\keypoint_classifier.hdf5\n",
      "19/19 [==============================] - 0s 9ms/step - loss: 0.2148 - accuracy: 0.9142 - val_loss: 0.0747 - val_accuracy: 0.9935\n",
      "Epoch 56/550\n",
      "13/19 [===================>..........] - ETA: 0s - loss: 0.1990 - accuracy: 0.9201\n",
      "Epoch 56: saving model to model/keypoint_classifier\\keypoint_classifier.hdf5\n",
      "19/19 [==============================] - 0s 10ms/step - loss: 0.1954 - accuracy: 0.9216 - val_loss: 0.0700 - val_accuracy: 0.9935\n",
      "Epoch 57/550\n",
      "14/19 [=====================>........] - ETA: 0s - loss: 0.1960 - accuracy: 0.9230\n",
      "Epoch 57: saving model to model/keypoint_classifier\\keypoint_classifier.hdf5\n",
      "19/19 [==============================] - 0s 10ms/step - loss: 0.1896 - accuracy: 0.9250 - val_loss: 0.0671 - val_accuracy: 0.9935\n",
      "Epoch 58/550\n",
      "15/19 [======================>.......] - ETA: 0s - loss: 0.1998 - accuracy: 0.9214\n",
      "Epoch 58: saving model to model/keypoint_classifier\\keypoint_classifier.hdf5\n",
      "19/19 [==============================] - 0s 10ms/step - loss: 0.2057 - accuracy: 0.9181 - val_loss: 0.0692 - val_accuracy: 0.9935\n",
      "Epoch 59/550\n",
      "12/19 [=================>............] - ETA: 0s - loss: 0.2019 - accuracy: 0.9219\n",
      "Epoch 59: saving model to model/keypoint_classifier\\keypoint_classifier.hdf5\n",
      "19/19 [==============================] - 0s 12ms/step - loss: 0.1933 - accuracy: 0.9250 - val_loss: 0.0748 - val_accuracy: 0.9935\n",
      "Epoch 60/550\n",
      "11/19 [================>.............] - ETA: 0s - loss: 0.2228 - accuracy: 0.9134\n",
      "Epoch 60: saving model to model/keypoint_classifier\\keypoint_classifier.hdf5\n",
      "19/19 [==============================] - 0s 11ms/step - loss: 0.2054 - accuracy: 0.9211 - val_loss: 0.0669 - val_accuracy: 0.9935\n",
      "Epoch 61/550\n",
      "13/19 [===================>..........] - ETA: 0s - loss: 0.2182 - accuracy: 0.9129\n",
      "Epoch 61: saving model to model/keypoint_classifier\\keypoint_classifier.hdf5\n",
      "19/19 [==============================] - 0s 11ms/step - loss: 0.2133 - accuracy: 0.9138 - val_loss: 0.0696 - val_accuracy: 0.9935\n",
      "Epoch 62/550\n",
      "14/19 [=====================>........] - ETA: 0s - loss: 0.2041 - accuracy: 0.9252\n",
      "Epoch 62: saving model to model/keypoint_classifier\\keypoint_classifier.hdf5\n",
      "19/19 [==============================] - 0s 17ms/step - loss: 0.1957 - accuracy: 0.9302 - val_loss: 0.0757 - val_accuracy: 0.9935\n",
      "Epoch 63/550\n",
      "14/19 [=====================>........] - ETA: 0s - loss: 0.1966 - accuracy: 0.9269\n",
      "Epoch 63: saving model to model/keypoint_classifier\\keypoint_classifier.hdf5\n",
      "19/19 [==============================] - 0s 10ms/step - loss: 0.1993 - accuracy: 0.9241 - val_loss: 0.0729 - val_accuracy: 0.9935\n",
      "Epoch 64/550\n",
      "14/19 [=====================>........] - ETA: 0s - loss: 0.1781 - accuracy: 0.9241\n",
      "Epoch 64: saving model to model/keypoint_classifier\\keypoint_classifier.hdf5\n",
      "19/19 [==============================] - 0s 10ms/step - loss: 0.1812 - accuracy: 0.9237 - val_loss: 0.0709 - val_accuracy: 0.9935\n",
      "Epoch 65/550\n",
      "15/19 [======================>.......] - ETA: 0s - loss: 0.1767 - accuracy: 0.9312\n",
      "Epoch 65: saving model to model/keypoint_classifier\\keypoint_classifier.hdf5\n",
      "19/19 [==============================] - 0s 9ms/step - loss: 0.1823 - accuracy: 0.9293 - val_loss: 0.0637 - val_accuracy: 0.9935\n",
      "Epoch 66/550\n",
      "17/19 [=========================>....] - ETA: 0s - loss: 0.2092 - accuracy: 0.9177\n",
      "Epoch 66: saving model to model/keypoint_classifier\\keypoint_classifier.hdf5\n",
      "19/19 [==============================] - 0s 9ms/step - loss: 0.2057 - accuracy: 0.9190 - val_loss: 0.0663 - val_accuracy: 0.9935\n",
      "Epoch 67/550\n",
      "16/19 [========================>.....] - ETA: 0s - loss: 0.1884 - accuracy: 0.9238\n",
      "Epoch 67: saving model to model/keypoint_classifier\\keypoint_classifier.hdf5\n",
      "19/19 [==============================] - 0s 9ms/step - loss: 0.1849 - accuracy: 0.9241 - val_loss: 0.0657 - val_accuracy: 0.9935\n",
      "Epoch 68/550\n",
      "15/19 [======================>.......] - ETA: 0s - loss: 0.1897 - accuracy: 0.9276\n",
      "Epoch 68: saving model to model/keypoint_classifier\\keypoint_classifier.hdf5\n",
      "19/19 [==============================] - 0s 9ms/step - loss: 0.1889 - accuracy: 0.9272 - val_loss: 0.0670 - val_accuracy: 0.9935\n",
      "Epoch 69/550\n",
      "16/19 [========================>.....] - ETA: 0s - loss: 0.1838 - accuracy: 0.9321\n",
      "Epoch 69: saving model to model/keypoint_classifier\\keypoint_classifier.hdf5\n",
      "19/19 [==============================] - 0s 9ms/step - loss: 0.1875 - accuracy: 0.9297 - val_loss: 0.0660 - val_accuracy: 0.9935\n",
      "Epoch 70/550\n",
      "17/19 [=========================>....] - ETA: 0s - loss: 0.1840 - accuracy: 0.9260\n",
      "Epoch 70: saving model to model/keypoint_classifier\\keypoint_classifier.hdf5\n",
      "19/19 [==============================] - 0s 9ms/step - loss: 0.1859 - accuracy: 0.9254 - val_loss: 0.0662 - val_accuracy: 0.9935\n",
      "Epoch 71/550\n",
      "16/19 [========================>.....] - ETA: 0s - loss: 0.1941 - accuracy: 0.9170\n",
      "Epoch 71: saving model to model/keypoint_classifier\\keypoint_classifier.hdf5\n",
      "19/19 [==============================] - 0s 9ms/step - loss: 0.1947 - accuracy: 0.9159 - val_loss: 0.0704 - val_accuracy: 0.9935\n",
      "Epoch 72/550\n",
      "17/19 [=========================>....] - ETA: 0s - loss: 0.1826 - accuracy: 0.9334\n",
      "Epoch 72: saving model to model/keypoint_classifier\\keypoint_classifier.hdf5\n",
      "19/19 [==============================] - 0s 10ms/step - loss: 0.1853 - accuracy: 0.9332 - val_loss: 0.0760 - val_accuracy: 0.9935\n",
      "Epoch 73/550\n",
      "14/19 [=====================>........] - ETA: 0s - loss: 0.1673 - accuracy: 0.9414\n",
      "Epoch 73: saving model to model/keypoint_classifier\\keypoint_classifier.hdf5\n",
      "19/19 [==============================] - 0s 11ms/step - loss: 0.1710 - accuracy: 0.9375 - val_loss: 0.0686 - val_accuracy: 0.9935\n",
      "Epoch 74/550\n",
      "14/19 [=====================>........] - ETA: 0s - loss: 0.1739 - accuracy: 0.9347\n",
      "Epoch 74: saving model to model/keypoint_classifier\\keypoint_classifier.hdf5\n",
      "19/19 [==============================] - 0s 10ms/step - loss: 0.1715 - accuracy: 0.9328 - val_loss: 0.0643 - val_accuracy: 0.9935\n",
      "Epoch 75/550\n",
      "14/19 [=====================>........] - ETA: 0s - loss: 0.1728 - accuracy: 0.9375\n",
      "Epoch 75: saving model to model/keypoint_classifier\\keypoint_classifier.hdf5\n",
      "19/19 [==============================] - 0s 10ms/step - loss: 0.1729 - accuracy: 0.9336 - val_loss: 0.0680 - val_accuracy: 0.9935\n",
      "Epoch 75: early stopping\n"
     ]
    }
   ],
   "source": [
    "# save model to plot a curve of accuracy and loss after training\n",
    "history = model.fit(\n",
    "    X_train,\n",
    "    y_train,\n",
    "    epochs=550,\n",
    "    batch_size=128,\n",
    "    validation_data=(X_test, y_test),\n",
    "    callbacks=[cp_callback, es_callback]\n",
    ")"
   ]
  },
  {
   "cell_type": "code",
   "execution_count": 105,
   "id": "d7d1e816",
   "metadata": {},
   "outputs": [],
   "source": [
    "# Save model for evaluation.\n",
    "model.save(model_save_path, include_optimizer=False)"
   ]
  },
  {
   "attachments": {},
   "cell_type": "markdown",
   "id": "378218f9-ed39-44cb-bd46-01b9f5634d7e",
   "metadata": {},
   "source": [
    "## Model Evaluation"
   ]
  },
  {
   "attachments": {},
   "cell_type": "markdown",
   "id": "20f65f65-009c-4efa-8b7d-d325bd69be97",
   "metadata": {},
   "source": [
    "### Confusion Matrix"
   ]
  },
  {
   "cell_type": "code",
   "execution_count": 106,
   "id": "5a6b32b9-a69b-4c55-b2de-6d675a8656cf",
   "metadata": {},
   "outputs": [
    {
     "name": "stdout",
     "output_type": "stream",
     "text": [
      "25/25 [==============================] - 0s 3ms/step\n",
      "              precision    recall  f1-score   support\n",
      "\n",
      "           0       1.00      1.00      1.00       372\n",
      "           1       1.00      1.00      1.00       402\n",
      "\n",
      "    accuracy                           1.00       774\n",
      "   macro avg       1.00      1.00      1.00       774\n",
      "weighted avg       1.00      1.00      1.00       774\n",
      "\n",
      "[[372   0]\n",
      " [  1 401]]\n"
     ]
    },
    {
     "data": {
      "image/png": "[encoded data removed]",
      "text/plain": [
       "<Figure size 1000x1000 with 2 Axes>"
      ]
     },
     "metadata": {},
     "output_type": "display_data"
    },
    {
     "data": {
      "image/png": "[encoded data removed]",
      "text/plain": [
       "<Figure size 1000x1000 with 1 Axes>"
      ]
     },
     "metadata": {},
     "output_type": "display_data"
    }
   ],
   "source": [
    "y_pred = model.predict(X_test)\n",
    "y_pred = np.argmax(Y_pred, axis=1)\n",
    "\n",
    "print(classification_report(y_test, y_pred))\n",
    "print(confusion_matrix(y_test, y_pred))\n",
    "\n",
    "# Plot confusion matrix\n",
    "cm = confusion_matrix(y_test, y_pred)\n",
    "cm = cm.astype('float') / cm.sum(axis=1)[:, np.newaxis]\n",
    "plt.figure(figsize=(10, 10))\n",
    "sns.heatmap(cm, annot=True, square=True, cmap=plt.cm.Blues)\n",
    "plt.xlabel('Predicted label')\n",
    "plt.ylabel('True label')\n",
    "plt.show()\n",
    "\n",
    "# Plot training & validation accuracy values\n",
    "plt.figure(figsize=(10, 10))\n",
    "plt.plot(history.history['accuracy'])\n",
    "plt.plot(history.history['val_accuracy'])\n",
    "plt.title('Model accuracy')\n",
    "plt.ylabel('Accuracy')\n",
    "plt.xlabel('Epochs')\n",
    "plt.legend(['Train', 'Test'], loc='upper left')\n",
    "plt.show()\n",
    "# The model still achieves exceptional results with all metrics reaching 1.00. Reviewing the model in production will provide a "
   ]
  },
  {
   "attachments": {},
   "cell_type": "markdown",
   "id": "ed787056-a88b-4e99-b56f-caa76e818eaa",
   "metadata": {},
   "source": [
    "## TF-Lite Deployment"
   ]
  },
  {
   "attachments": {},
   "cell_type": "markdown",
   "id": "fbe48b07-7145-4ec4-831a-550635bd619a",
   "metadata": {},
   "source": [
    "#### Save the model (inference only)"
   ]
  },
  {
   "cell_type": "code",
   "execution_count": 107,
   "id": "ef7dfc1e-2179-4ed3-881c-f85c0beb63c5",
   "metadata": {},
   "outputs": [],
   "source": [
    "model.save(model_save_path, include_optimizer=False)"
   ]
  },
  {
   "attachments": {},
   "cell_type": "markdown",
   "id": "b06ebf22-b13f-49be-85a1-58238cfd335c",
   "metadata": {},
   "source": [
    "#### Model Quantization"
   ]
  },
  {
   "cell_type": "code",
   "execution_count": 108,
   "id": "42f1cc08-e835-4f34-b3ce-240f2e2bcab5",
   "metadata": {},
   "outputs": [
    {
     "name": "stdout",
     "output_type": "stream",
     "text": [
      "INFO:tensorflow:Assets written to: C:\\Users\\calgr\\AppData\\Local\\Temp\\tmp52p38kte\\assets\n"
     ]
    },
    {
     "name": "stderr",
     "output_type": "stream",
     "text": [
      "INFO:tensorflow:Assets written to: C:\\Users\\calgr\\AppData\\Local\\Temp\\tmp52p38kte\\assets\n"
     ]
    },
    {
     "data": {
      "text/plain": [
       "7576"
      ]
     },
     "execution_count": 108,
     "metadata": {},
     "output_type": "execute_result"
    }
   ],
   "source": [
    "# Model Quantization & Conversion to TFLite \n",
    "tflite_save_path = 'model/keypoint_classifier/keypoint_classifier.tflite'\n",
    "\n",
    "converter = tf.lite.TFLiteConverter.from_keras_model(model)\n",
    "converter.optimizations = [tf.lite.Optimize.DEFAULT]\n",
    "tflite_quantized_model = converter.convert()\n",
    "\n",
    "# Model Quantized. Save the model.\n",
    "open(tflite_save_path, 'wb').write(tflite_quantized_model)"
   ]
  },
  {
   "attachments": {},
   "cell_type": "markdown",
   "id": "0318a85b-9ccf-423e-b654-a89aaa0b17c2",
   "metadata": {},
   "source": [
    "### Inference Test"
   ]
  },
  {
   "cell_type": "code",
   "execution_count": 109,
   "id": "b778ea7c-26d8-4353-8912-867842447cdf",
   "metadata": {},
   "outputs": [],
   "source": [
    "# Convert the model to tflite format for inferencing\n",
    "interpreter = tf.lite.Interpreter(model_path=tflite_save_path)\n",
    "interpreter.allocate_tensors()"
   ]
  },
  {
   "cell_type": "code",
   "execution_count": 110,
   "id": "0e0fe364-6b03-466f-bb64-ef59d525991b",
   "metadata": {},
   "outputs": [],
   "source": [
    "# Input, Output Tensors\n",
    "input_details = interpreter.get_input_details()\n",
    "output_details = interpreter.get_output_details()"
   ]
  },
  {
   "cell_type": "code",
   "execution_count": 111,
   "id": "85a6f6f8-da5f-4641-bb78-a64ba2e52644",
   "metadata": {},
   "outputs": [],
   "source": [
    "# Set the sample that to be used in inferencing\n",
    "interpreter.set_tensor(input_details[0]['index'], np.array([X_test[0]]))"
   ]
  },
  {
   "cell_type": "code",
   "execution_count": 112,
   "id": "21760d85-870d-4550-91dd-6f8e611429c8",
   "metadata": {},
   "outputs": [
    {
     "name": "stdout",
     "output_type": "stream",
     "text": [
      "Inference Time: 0.00000 seconds\n"
     ]
    }
   ],
   "source": [
    "import time\n",
    "\n",
    "start_time = time.time()\n",
    "interpreter.invoke()\n",
    "tflite_results = interpreter.get_tensor(output_details[0]['index'])\n",
    "end_time = time.time()\n",
    "inference_time = end_time - start_time\n",
    "print(\"Inference Time: {:.5f} seconds\".format(inference_time))\n"
   ]
  },
  {
   "cell_type": "code",
   "execution_count": 113,
   "id": "a20bee9c-b9e9-450e-999d-ae86f2b7f563",
   "metadata": {},
   "outputs": [
    {
     "name": "stdout",
     "output_type": "stream",
     "text": [
      "Predicted Class: Close (Confidence: 95.73%)\n"
     ]
    }
   ],
   "source": [
    "class_labels = ['Open', 'Close']  # Class labels\n",
    "\n",
    "predicted_class_index = np.argmax(np.squeeze(tflite_results))\n",
    "predicted_class_label = class_labels[predicted_class_index]\n",
    "confidence = tflite_results[0][predicted_class_index]\n",
    "\n",
    "print(\"Predicted Class: {} (Confidence: {:.2f}%)\".format(predicted_class_label, confidence * 100))\n"
   ]
  },
  {
   "attachments": {},
   "cell_type": "markdown",
   "id": "9580574d",
   "metadata": {},
   "source": [
    "## Save The Model"
   ]
  },
  {
   "cell_type": "code",
   "execution_count": 114,
   "id": "b7980260",
   "metadata": {},
   "outputs": [
    {
     "name": "stdout",
     "output_type": "stream",
     "text": [
      "INFO:tensorflow:Assets written to: C:\\Users\\calgr\\AppData\\Local\\Temp\\tmpkib4_dc4\\assets\n"
     ]
    },
    {
     "name": "stderr",
     "output_type": "stream",
     "text": [
      "INFO:tensorflow:Assets written to: C:\\Users\\calgr\\AppData\\Local\\Temp\\tmpkib4_dc4\\assets\n"
     ]
    }
   ],
   "source": [
    "# Save the model after inference\n",
    "with open(tflite_save_path, 'wb') as f:\n",
    "    tflite_model = tf.lite.TFLiteConverter.from_keras_model(model).convert()\n",
    "    f.write(tflite_model)\n"
   ]
  },
  {
   "cell_type": "markdown",
   "id": "86a305aa",
   "metadata": {},
   "source": []
  }
 ],
 "metadata": {
  "kernelspec": {
   "display_name": "Python 3 (ipykernel)",
   "language": "python",
   "name": "python3"
  },
  "language_info": {
   "codemirror_mode": {
    "name": "ipython",
    "version": 3
   },
   "file_extension": ".py",
   "mimetype": "text/x-python",
   "name": "python",
   "nbconvert_exporter": "python",
   "pygments_lexer": "ipython3",
   "version": "3.10.11"
  },
  "toc-autonumbering": false,
  "toc-showcode": false,
  "toc-showmarkdowntxt": true,
  "toc-showtags": false
 },
 "nbformat": 4,
 "nbformat_minor": 5
}
