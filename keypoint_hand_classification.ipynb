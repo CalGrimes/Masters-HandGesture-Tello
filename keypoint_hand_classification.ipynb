{
 "cells": [
  {
   "attachments": {},
   "cell_type": "markdown",
   "id": "b40c1326-ba40-42e1-94a2-bbb10a94dd12",
   "metadata": {},
   "source": [
    "# Keypoint Classification for Hand Gesture Recognition"
   ]
  },
  {
   "attachments": {},
   "cell_type": "markdown",
   "id": "a86ef4e2",
   "metadata": {},
   "source": [
    "https://github.com/kinivi/tello-gesture-control#Gesture-control\n",
    "\n",
    "https://github.com/Kazuhito00/hand-gesture-recognition-using-mediapipe/tree/main"
   ]
  },
  {
   "attachments": {},
   "cell_type": "markdown",
   "id": "f3f15996-b51b-409f-b642-935c4d1b1528",
   "metadata": {},
   "source": [
    "## Import Necessary Dependacies"
   ]
  },
  {
   "cell_type": "code",
   "execution_count": 387,
   "id": "60a7faff-31a3-4a18-a43d-bd13c0b8a06b",
   "metadata": {
    "tags": []
   },
   "outputs": [
    {
     "ename": "SyntaxError",
     "evalue": "invalid syntax (864999259.py, line 10)",
     "output_type": "error",
     "traceback": [
      "\u001b[1;36m  Cell \u001b[1;32mIn[387], line 10\u001b[1;36m\u001b[0m\n\u001b[1;33m    import tensorflow-gpu\u001b[0m\n\u001b[1;37m                     ^\u001b[0m\n\u001b[1;31mSyntaxError\u001b[0m\u001b[1;31m:\u001b[0m invalid syntax\n"
     ]
    }
   ],
   "source": [
    "import numpy as np\n",
    "import pandas as pd\n",
    "\n",
    "import tensorflow as tf\n",
    "from sklearn.model_selection import train_test_split\n",
    "from sklearn.metrics import classification_report, confusion_matrix\n",
    "\n",
    "import os \n"
   ]
  },
  {
   "attachments": {},
   "cell_type": "markdown",
   "id": "97d67a49-6eee-49f6-9cd6-23e66a8325d2",
   "metadata": {},
   "source": [
    "## Paths"
   ]
  },
  {
   "cell_type": "code",
   "execution_count": 368,
   "id": "08b138e5-7ee5-46a1-8960-ca9caf6e8c27",
   "metadata": {},
   "outputs": [],
   "source": [
    "keypoint_dataset = 'data/keypoint.csv'\n",
    "model_save_path = 'model/keypoint_classifier/keypoint_classifier.hdf5'"
   ]
  },
  {
   "attachments": {},
   "cell_type": "markdown",
   "id": "d92de116-c5e9-4542-881e-298a844d8d9b",
   "metadata": {},
   "source": [
    "## Load the Training Data"
   ]
  },
  {
   "cell_type": "code",
   "execution_count": 369,
   "id": "e8ce647a-e36f-423d-92e2-ac4f61ba3515",
   "metadata": {},
   "outputs": [],
   "source": [
    "X_dataset = np.loadtxt(keypoint_dataset, delimiter=',', dtype='float32', usecols=list(range(1, (21 * 2) + 1)))\n",
    "y_dataset = np.loadtxt(keypoint_dataset, delimiter=',', dtype='int32', usecols=(0))"
   ]
  },
  {
   "attachments": {},
   "cell_type": "markdown",
   "id": "3a814def-3812-4f44-8f85-6296bd01850f",
   "metadata": {},
   "source": [
    "## Splitting the data"
   ]
  },
  {
   "cell_type": "code",
   "execution_count": 370,
   "id": "0a303c3f-5687-46b6-94ae-ab379ef8dd3a",
   "metadata": {},
   "outputs": [],
   "source": [
    "X_train, X_test, y_train, y_test = train_test_split(X_dataset, y_dataset, train_size=0.75, random_state=34)"
   ]
  },
  {
   "cell_type": "code",
   "execution_count": 371,
   "id": "b03326de",
   "metadata": {},
   "outputs": [
    {
     "name": "stdout",
     "output_type": "stream",
     "text": [
      "(array([0, 1]), array([1522, 1572], dtype=int64))\n"
     ]
    },
    {
     "data": {
      "image/png": "[encoded data removed]",
      "text/plain": [
       "<Figure size 640x480 with 1 Axes>"
      ]
     },
     "metadata": {},
     "output_type": "display_data"
    }
   ],
   "source": [
    "# Classes count\n",
    "counts = np.unique(y_dataset, return_counts=True)\n",
    "df = pd.DataFrame(counts)\n",
    "df.T.plot(kind=\"bar\", stacked=True)\n",
    "print(counts)"
   ]
  },
  {
   "attachments": {},
   "cell_type": "markdown",
   "id": "6fe16a26-f52d-4e88-b568-635067506129",
   "metadata": {},
   "source": [
    "## Building the model"
   ]
  },
  {
   "cell_type": "code",
   "execution_count": 372,
   "id": "2ce5d342-1802-49b6-b5d1-dcfa859c63f9",
   "metadata": {},
   "outputs": [],
   "source": [
    "NUM_CLASSES = 2"
   ]
  },
  {
   "cell_type": "code",
   "execution_count": 373,
   "id": "94ba9bd0-ffae-4f19-a8fd-4a3687ae7615",
   "metadata": {},
   "outputs": [],
   "source": [
    "model = tf.keras.models.Sequential([\n",
    "    tf.keras.layers.Input((21 * 2, )),\n",
    "    tf.keras.layers.Dropout(0.0),\n",
    "    tf.keras.layers.Dense(32, activation='relu'),\n",
    "    tf.keras.layers.Dropout(0.0),\n",
    "    tf.keras.layers.Dense(32, activation='relu'),\n",
    "    tf.keras.layers.Dropout(0.0),\n",
    "    tf.keras.layers.Dense(16, activation='relu'),\n",
    "    tf.keras.layers.Dense(NUM_CLASSES, activation='softmax')\n",
    "])"
   ]
  },
  {
   "cell_type": "code",
   "execution_count": 374,
   "id": "f361270c-0682-4d7e-9bcb-27b8d4a59ed6",
   "metadata": {},
   "outputs": [
    {
     "name": "stdout",
     "output_type": "stream",
     "text": [
      "Model: \"sequential_35\"\n",
      "_________________________________________________________________\n",
      " Layer (type)                Output Shape              Param #   \n",
      "=================================================================\n",
      " dropout_80 (Dropout)        (None, 42)                0         \n",
      "                                                                 \n",
      " dense_104 (Dense)           (None, 32)                1376      \n",
      "                                                                 \n",
      " dropout_81 (Dropout)        (None, 32)                0         \n",
      "                                                                 \n",
      " dense_105 (Dense)           (None, 32)                1056      \n",
      "                                                                 \n",
      " dropout_82 (Dropout)        (None, 32)                0         \n",
      "                                                                 \n",
      " dense_106 (Dense)           (None, 16)                528       \n",
      "                                                                 \n",
      " dense_107 (Dense)           (None, 2)                 34        \n",
      "                                                                 \n",
      "=================================================================\n",
      "Total params: 2,994\n",
      "Trainable params: 2,994\n",
      "Non-trainable params: 0\n",
      "_________________________________________________________________\n"
     ]
    }
   ],
   "source": [
    "model.summary() "
   ]
  },
  {
   "cell_type": "code",
   "execution_count": 375,
   "id": "7f51fc8a-ec4f-4ecf-9224-f0814e5c215c",
   "metadata": {},
   "outputs": [],
   "source": [
    "# Model Checkpoints\n",
    "cp_callback = tf.keras.callbacks.ModelCheckpoint(\n",
    "    model_save_path, verbose=1, save_weights_only=False)\n",
    "# Early Stopping\n",
    "es_callback = tf.keras.callbacks.EarlyStopping(patience=10, verbose=1)"
   ]
  },
  {
   "cell_type": "code",
   "execution_count": 376,
   "id": "624a3419-b317-432f-911b-a07d9e3bf994",
   "metadata": {},
   "outputs": [],
   "source": [
    "# Model Compilation\n",
    "model.compile(\n",
    "    optimizer='adam',\n",
    "    loss='sparse_categorical_crossentropy',\n",
    "    metrics=['accuracy']\n",
    ")"
   ]
  },
  {
   "attachments": {},
   "cell_type": "markdown",
   "id": "790c3b71-4603-4a00-b4c8-68993205bb3f",
   "metadata": {},
   "source": [
    "## Training the model"
   ]
  },
  {
   "cell_type": "code",
   "execution_count": 377,
   "id": "cab54a32-bdd0-403a-a958-5b89ea02e1d2",
   "metadata": {},
   "outputs": [
    {
     "name": "stdout",
     "output_type": "stream",
     "text": [
      "Epoch 1/550\n",
      " 1/19 [>.............................] - ETA: 9s - loss: 0.7034 - accuracy: 0.4688\n",
      "Epoch 1: saving model to model/keypoint_classifier\\keypoint_classifier.hdf5\n",
      "19/19 [==============================] - 1s 20ms/step - loss: 0.6546 - accuracy: 0.6379 - val_loss: 0.5955 - val_accuracy: 0.8488\n",
      "Epoch 2/550\n",
      " 1/19 [>.............................] - ETA: 0s - loss: 0.6004 - accuracy: 0.8438\n",
      "Epoch 2: saving model to model/keypoint_classifier\\keypoint_classifier.hdf5\n",
      "19/19 [==============================] - 0s 6ms/step - loss: 0.5364 - accuracy: 0.8974 - val_loss: 0.4555 - val_accuracy: 0.9302\n",
      "Epoch 3/550\n",
      " 1/19 [>.............................] - ETA: 0s - loss: 0.4467 - accuracy: 0.9062\n",
      "Epoch 3: saving model to model/keypoint_classifier\\keypoint_classifier.hdf5\n",
      "19/19 [==============================] - 0s 6ms/step - loss: 0.3817 - accuracy: 0.9198 - val_loss: 0.2939 - val_accuracy: 0.9341\n",
      "Epoch 4/550\n",
      " 1/19 [>.............................] - ETA: 0s - loss: 0.3127 - accuracy: 0.9062\n",
      "Epoch 4: saving model to model/keypoint_classifier\\keypoint_classifier.hdf5\n",
      "19/19 [==============================] - 0s 6ms/step - loss: 0.2384 - accuracy: 0.9392 - val_loss: 0.1806 - val_accuracy: 0.9548\n",
      "Epoch 5/550\n",
      " 1/19 [>.............................] - ETA: 0s - loss: 0.1811 - accuracy: 0.9609\n",
      "Epoch 5: saving model to model/keypoint_classifier\\keypoint_classifier.hdf5\n",
      "19/19 [==============================] - 0s 6ms/step - loss: 0.1527 - accuracy: 0.9608 - val_loss: 0.1176 - val_accuracy: 0.9755\n",
      "Epoch 6/550\n",
      " 1/19 [>.............................] - ETA: 0s - loss: 0.1256 - accuracy: 0.9688\n",
      "Epoch 6: saving model to model/keypoint_classifier\\keypoint_classifier.hdf5\n",
      "19/19 [==============================] - 0s 6ms/step - loss: 0.1011 - accuracy: 0.9784 - val_loss: 0.0841 - val_accuracy: 0.9845\n",
      "Epoch 7/550\n",
      " 1/19 [>.............................] - ETA: 0s - loss: 0.1101 - accuracy: 0.9766\n",
      "Epoch 7: saving model to model/keypoint_classifier\\keypoint_classifier.hdf5\n",
      "19/19 [==============================] - 0s 6ms/step - loss: 0.0763 - accuracy: 0.9832 - val_loss: 0.0662 - val_accuracy: 0.9871\n",
      "Epoch 8/550\n",
      " 1/19 [>.............................] - ETA: 0s - loss: 0.0727 - accuracy: 0.9844\n",
      "Epoch 8: saving model to model/keypoint_classifier\\keypoint_classifier.hdf5\n",
      "19/19 [==============================] - 0s 6ms/step - loss: 0.0630 - accuracy: 0.9853 - val_loss: 0.0561 - val_accuracy: 0.9871\n",
      "Epoch 9/550\n",
      " 1/19 [>.............................] - ETA: 0s - loss: 0.0776 - accuracy: 0.9766\n",
      "Epoch 9: saving model to model/keypoint_classifier\\keypoint_classifier.hdf5\n",
      "19/19 [==============================] - 0s 6ms/step - loss: 0.0535 - accuracy: 0.9862 - val_loss: 0.0488 - val_accuracy: 0.9884\n",
      "Epoch 10/550\n",
      " 1/19 [>.............................] - ETA: 0s - loss: 0.0155 - accuracy: 1.0000\n",
      "Epoch 10: saving model to model/keypoint_classifier\\keypoint_classifier.hdf5\n",
      "19/19 [==============================] - 0s 6ms/step - loss: 0.0477 - accuracy: 0.9875 - val_loss: 0.0485 - val_accuracy: 0.9884\n",
      "Epoch 11/550\n",
      " 1/19 [>.............................] - ETA: 0s - loss: 0.0447 - accuracy: 0.9922\n",
      "Epoch 11: saving model to model/keypoint_classifier\\keypoint_classifier.hdf5\n",
      "19/19 [==============================] - 0s 6ms/step - loss: 0.0447 - accuracy: 0.9888 - val_loss: 0.0387 - val_accuracy: 0.9910\n",
      "Epoch 12/550\n",
      " 1/19 [>.............................] - ETA: 0s - loss: 0.0094 - accuracy: 1.0000\n",
      "Epoch 12: saving model to model/keypoint_classifier\\keypoint_classifier.hdf5\n",
      "19/19 [==============================] - 0s 6ms/step - loss: 0.0377 - accuracy: 0.9892 - val_loss: 0.0398 - val_accuracy: 0.9922\n",
      "Epoch 13/550\n",
      " 1/19 [>.............................] - ETA: 0s - loss: 0.0130 - accuracy: 1.0000\n",
      "Epoch 13: saving model to model/keypoint_classifier\\keypoint_classifier.hdf5\n",
      "19/19 [==============================] - 0s 6ms/step - loss: 0.0354 - accuracy: 0.9875 - val_loss: 0.0325 - val_accuracy: 0.9922\n",
      "Epoch 14/550\n",
      " 1/19 [>.............................] - ETA: 0s - loss: 0.0259 - accuracy: 0.9922\n",
      "Epoch 14: saving model to model/keypoint_classifier\\keypoint_classifier.hdf5\n",
      "19/19 [==============================] - 0s 6ms/step - loss: 0.0292 - accuracy: 0.9905 - val_loss: 0.0304 - val_accuracy: 0.9935\n",
      "Epoch 15/550\n",
      " 1/19 [>.............................] - ETA: 0s - loss: 0.0142 - accuracy: 0.9922\n",
      "Epoch 15: saving model to model/keypoint_classifier\\keypoint_classifier.hdf5\n",
      "19/19 [==============================] - 0s 6ms/step - loss: 0.0289 - accuracy: 0.9914 - val_loss: 0.0297 - val_accuracy: 0.9935\n",
      "Epoch 16/550\n",
      " 1/19 [>.............................] - ETA: 0s - loss: 0.0082 - accuracy: 1.0000\n",
      "Epoch 16: saving model to model/keypoint_classifier\\keypoint_classifier.hdf5\n",
      "19/19 [==============================] - 0s 6ms/step - loss: 0.0240 - accuracy: 0.9922 - val_loss: 0.0287 - val_accuracy: 0.9948\n",
      "Epoch 17/550\n",
      " 1/19 [>.............................] - ETA: 0s - loss: 0.0294 - accuracy: 0.9922\n",
      "Epoch 17: saving model to model/keypoint_classifier\\keypoint_classifier.hdf5\n",
      "19/19 [==============================] - 0s 6ms/step - loss: 0.0220 - accuracy: 0.9944 - val_loss: 0.0278 - val_accuracy: 0.9948\n",
      "Epoch 18/550\n",
      " 1/19 [>.............................] - ETA: 0s - loss: 0.0124 - accuracy: 0.9922\n",
      "Epoch 18: saving model to model/keypoint_classifier\\keypoint_classifier.hdf5\n",
      "19/19 [==============================] - 0s 6ms/step - loss: 0.0219 - accuracy: 0.9944 - val_loss: 0.0233 - val_accuracy: 0.9948\n",
      "Epoch 19/550\n",
      " 1/19 [>.............................] - ETA: 0s - loss: 0.0115 - accuracy: 1.0000\n",
      "Epoch 19: saving model to model/keypoint_classifier\\keypoint_classifier.hdf5\n",
      "19/19 [==============================] - 0s 6ms/step - loss: 0.0164 - accuracy: 0.9948 - val_loss: 0.0229 - val_accuracy: 0.9948\n",
      "Epoch 20/550\n",
      " 1/19 [>.............................] - ETA: 0s - loss: 0.0131 - accuracy: 0.9922\n",
      "Epoch 20: saving model to model/keypoint_classifier\\keypoint_classifier.hdf5\n",
      "19/19 [==============================] - 0s 6ms/step - loss: 0.0150 - accuracy: 0.9948 - val_loss: 0.0216 - val_accuracy: 0.9948\n",
      "Epoch 21/550\n",
      " 1/19 [>.............................] - ETA: 0s - loss: 0.0240 - accuracy: 0.9922\n",
      "Epoch 21: saving model to model/keypoint_classifier\\keypoint_classifier.hdf5\n",
      "19/19 [==============================] - 0s 6ms/step - loss: 0.0146 - accuracy: 0.9953 - val_loss: 0.0199 - val_accuracy: 0.9948\n",
      "Epoch 22/550\n",
      " 1/19 [>.............................] - ETA: 0s - loss: 0.0109 - accuracy: 1.0000\n",
      "Epoch 22: saving model to model/keypoint_classifier\\keypoint_classifier.hdf5\n",
      "19/19 [==============================] - 0s 6ms/step - loss: 0.0125 - accuracy: 0.9966 - val_loss: 0.0196 - val_accuracy: 0.9948\n",
      "Epoch 23/550\n",
      " 1/19 [>.............................] - ETA: 0s - loss: 0.0088 - accuracy: 1.0000\n",
      "Epoch 23: saving model to model/keypoint_classifier\\keypoint_classifier.hdf5\n",
      "19/19 [==============================] - 0s 6ms/step - loss: 0.0109 - accuracy: 0.9966 - val_loss: 0.0187 - val_accuracy: 0.9948\n",
      "Epoch 24/550\n",
      " 1/19 [>.............................] - ETA: 0s - loss: 0.0086 - accuracy: 1.0000\n",
      "Epoch 24: saving model to model/keypoint_classifier\\keypoint_classifier.hdf5\n",
      "19/19 [==============================] - 0s 6ms/step - loss: 0.0099 - accuracy: 0.9974 - val_loss: 0.0185 - val_accuracy: 0.9948\n",
      "Epoch 25/550\n",
      " 1/19 [>.............................] - ETA: 0s - loss: 0.0027 - accuracy: 1.0000\n",
      "Epoch 25: saving model to model/keypoint_classifier\\keypoint_classifier.hdf5\n",
      "19/19 [==============================] - 0s 6ms/step - loss: 0.0095 - accuracy: 0.9970 - val_loss: 0.0171 - val_accuracy: 0.9948\n",
      "Epoch 26/550\n",
      " 1/19 [>.............................] - ETA: 0s - loss: 0.0053 - accuracy: 1.0000\n",
      "Epoch 26: saving model to model/keypoint_classifier\\keypoint_classifier.hdf5\n",
      "19/19 [==============================] - 0s 6ms/step - loss: 0.0114 - accuracy: 0.9983 - val_loss: 0.0179 - val_accuracy: 0.9948\n",
      "Epoch 27/550\n",
      " 1/19 [>.............................] - ETA: 0s - loss: 0.0065 - accuracy: 1.0000\n",
      "Epoch 27: saving model to model/keypoint_classifier\\keypoint_classifier.hdf5\n",
      "19/19 [==============================] - 0s 6ms/step - loss: 0.0084 - accuracy: 0.9978 - val_loss: 0.0173 - val_accuracy: 0.9948\n",
      "Epoch 28/550\n",
      " 1/19 [>.............................] - ETA: 0s - loss: 0.0030 - accuracy: 1.0000\n",
      "Epoch 28: saving model to model/keypoint_classifier\\keypoint_classifier.hdf5\n",
      "19/19 [==============================] - 0s 6ms/step - loss: 0.0073 - accuracy: 0.9987 - val_loss: 0.0168 - val_accuracy: 0.9948\n",
      "Epoch 29/550\n",
      " 1/19 [>.............................] - ETA: 0s - loss: 0.0081 - accuracy: 0.9922\n",
      "Epoch 29: saving model to model/keypoint_classifier\\keypoint_classifier.hdf5\n",
      "19/19 [==============================] - 0s 6ms/step - loss: 0.0071 - accuracy: 0.9978 - val_loss: 0.0154 - val_accuracy: 0.9961\n",
      "Epoch 30/550\n",
      " 1/19 [>.............................] - ETA: 0s - loss: 0.0076 - accuracy: 1.0000\n",
      "Epoch 30: saving model to model/keypoint_classifier\\keypoint_classifier.hdf5\n",
      "19/19 [==============================] - 0s 6ms/step - loss: 0.0065 - accuracy: 0.9991 - val_loss: 0.0164 - val_accuracy: 0.9961\n",
      "Epoch 31/550\n",
      " 1/19 [>.............................] - ETA: 0s - loss: 0.0117 - accuracy: 0.9922\n",
      "Epoch 31: saving model to model/keypoint_classifier\\keypoint_classifier.hdf5\n",
      "19/19 [==============================] - 0s 6ms/step - loss: 0.0064 - accuracy: 0.9978 - val_loss: 0.0139 - val_accuracy: 0.9961\n",
      "Epoch 32/550\n",
      " 1/19 [>.............................] - ETA: 0s - loss: 0.0024 - accuracy: 1.0000\n",
      "Epoch 32: saving model to model/keypoint_classifier\\keypoint_classifier.hdf5\n",
      "19/19 [==============================] - 0s 6ms/step - loss: 0.0053 - accuracy: 0.9991 - val_loss: 0.0172 - val_accuracy: 0.9948\n",
      "Epoch 33/550\n",
      " 1/19 [>.............................] - ETA: 0s - loss: 0.0159 - accuracy: 0.9922\n",
      "Epoch 33: saving model to model/keypoint_classifier\\keypoint_classifier.hdf5\n",
      "19/19 [==============================] - 0s 6ms/step - loss: 0.0063 - accuracy: 0.9987 - val_loss: 0.0148 - val_accuracy: 0.9961\n",
      "Epoch 34/550\n",
      " 1/19 [>.............................] - ETA: 0s - loss: 0.0070 - accuracy: 1.0000\n",
      "Epoch 34: saving model to model/keypoint_classifier\\keypoint_classifier.hdf5\n",
      "19/19 [==============================] - 0s 6ms/step - loss: 0.0055 - accuracy: 0.9987 - val_loss: 0.0138 - val_accuracy: 0.9961\n",
      "Epoch 35/550\n",
      " 1/19 [>.............................] - ETA: 0s - loss: 0.0015 - accuracy: 1.0000\n",
      "Epoch 35: saving model to model/keypoint_classifier\\keypoint_classifier.hdf5\n",
      "19/19 [==============================] - 0s 6ms/step - loss: 0.0044 - accuracy: 0.9987 - val_loss: 0.0135 - val_accuracy: 0.9987\n",
      "Epoch 36/550\n",
      " 1/19 [>.............................] - ETA: 0s - loss: 0.0032 - accuracy: 1.0000\n",
      "Epoch 36: saving model to model/keypoint_classifier\\keypoint_classifier.hdf5\n",
      "19/19 [==============================] - 0s 6ms/step - loss: 0.0041 - accuracy: 0.9996 - val_loss: 0.0137 - val_accuracy: 0.9961\n",
      "Epoch 37/550\n",
      " 1/19 [>.............................] - ETA: 0s - loss: 0.0043 - accuracy: 1.0000\n",
      "Epoch 37: saving model to model/keypoint_classifier\\keypoint_classifier.hdf5\n",
      "19/19 [==============================] - 0s 6ms/step - loss: 0.0037 - accuracy: 0.9996 - val_loss: 0.0138 - val_accuracy: 0.9961\n",
      "Epoch 38/550\n",
      " 1/19 [>.............................] - ETA: 0s - loss: 0.0018 - accuracy: 1.0000\n",
      "Epoch 38: saving model to model/keypoint_classifier\\keypoint_classifier.hdf5\n",
      "19/19 [==============================] - 0s 6ms/step - loss: 0.0034 - accuracy: 0.9996 - val_loss: 0.0128 - val_accuracy: 0.9987\n",
      "Epoch 39/550\n",
      " 1/19 [>.............................] - ETA: 0s - loss: 0.0022 - accuracy: 1.0000\n",
      "Epoch 39: saving model to model/keypoint_classifier\\keypoint_classifier.hdf5\n",
      "19/19 [==============================] - 0s 6ms/step - loss: 0.0035 - accuracy: 0.9996 - val_loss: 0.0124 - val_accuracy: 0.9987\n",
      "Epoch 40/550\n",
      " 1/19 [>.............................] - ETA: 0s - loss: 0.0025 - accuracy: 1.0000\n",
      "Epoch 40: saving model to model/keypoint_classifier\\keypoint_classifier.hdf5\n",
      "19/19 [==============================] - 0s 6ms/step - loss: 0.0035 - accuracy: 0.9996 - val_loss: 0.0129 - val_accuracy: 0.9987\n",
      "Epoch 41/550\n",
      " 1/19 [>.............................] - ETA: 0s - loss: 0.0042 - accuracy: 1.0000\n",
      "Epoch 41: saving model to model/keypoint_classifier\\keypoint_classifier.hdf5\n",
      "19/19 [==============================] - 0s 6ms/step - loss: 0.0032 - accuracy: 0.9996 - val_loss: 0.0129 - val_accuracy: 0.9974\n",
      "Epoch 42/550\n",
      " 1/19 [>.............................] - ETA: 0s - loss: 8.9746e-04 - accuracy: 1.0000\n",
      "Epoch 42: saving model to model/keypoint_classifier\\keypoint_classifier.hdf5\n",
      "19/19 [==============================] - 0s 6ms/step - loss: 0.0032 - accuracy: 0.9991 - val_loss: 0.0130 - val_accuracy: 0.9974\n",
      "Epoch 43/550\n",
      " 1/19 [>.............................] - ETA: 0s - loss: 0.0022 - accuracy: 1.0000\n",
      "Epoch 43: saving model to model/keypoint_classifier\\keypoint_classifier.hdf5\n",
      "19/19 [==============================] - 0s 6ms/step - loss: 0.0029 - accuracy: 0.9996 - val_loss: 0.0138 - val_accuracy: 0.9987\n",
      "Epoch 44/550\n",
      " 1/19 [>.............................] - ETA: 0s - loss: 2.7859e-04 - accuracy: 1.0000\n",
      "Epoch 44: saving model to model/keypoint_classifier\\keypoint_classifier.hdf5\n",
      "19/19 [==============================] - 0s 6ms/step - loss: 0.0026 - accuracy: 0.9996 - val_loss: 0.0120 - val_accuracy: 0.9987\n",
      "Epoch 45/550\n",
      " 1/19 [>.............................] - ETA: 0s - loss: 0.0073 - accuracy: 1.0000\n",
      "Epoch 45: saving model to model/keypoint_classifier\\keypoint_classifier.hdf5\n",
      "19/19 [==============================] - 0s 8ms/step - loss: 0.0027 - accuracy: 1.0000 - val_loss: 0.0121 - val_accuracy: 0.9987\n",
      "Epoch 46/550\n",
      " 1/19 [>.............................] - ETA: 0s - loss: 0.0017 - accuracy: 1.0000\n",
      "Epoch 46: saving model to model/keypoint_classifier\\keypoint_classifier.hdf5\n",
      "19/19 [==============================] - 0s 7ms/step - loss: 0.0024 - accuracy: 0.9996 - val_loss: 0.0129 - val_accuracy: 0.9987\n",
      "Epoch 47/550\n",
      " 1/19 [>.............................] - ETA: 0s - loss: 9.8002e-04 - accuracy: 1.0000\n",
      "Epoch 47: saving model to model/keypoint_classifier\\keypoint_classifier.hdf5\n",
      "19/19 [==============================] - 0s 6ms/step - loss: 0.0020 - accuracy: 1.0000 - val_loss: 0.0138 - val_accuracy: 0.9987\n",
      "Epoch 48/550\n",
      " 1/19 [>.............................] - ETA: 0s - loss: 6.6284e-04 - accuracy: 1.0000\n",
      "Epoch 48: saving model to model/keypoint_classifier\\keypoint_classifier.hdf5\n",
      "19/19 [==============================] - 0s 6ms/step - loss: 0.0020 - accuracy: 0.9996 - val_loss: 0.0122 - val_accuracy: 0.9987\n",
      "Epoch 49/550\n",
      " 1/19 [>.............................] - ETA: 0s - loss: 0.0026 - accuracy: 1.0000\n",
      "Epoch 49: saving model to model/keypoint_classifier\\keypoint_classifier.hdf5\n",
      "19/19 [==============================] - 0s 6ms/step - loss: 0.0020 - accuracy: 0.9996 - val_loss: 0.0125 - val_accuracy: 0.9987\n",
      "Epoch 50/550\n",
      " 1/19 [>.............................] - ETA: 0s - loss: 7.4249e-04 - accuracy: 1.0000\n",
      "Epoch 50: saving model to model/keypoint_classifier\\keypoint_classifier.hdf5\n",
      "19/19 [==============================] - 0s 6ms/step - loss: 0.0018 - accuracy: 1.0000 - val_loss: 0.0120 - val_accuracy: 0.9974\n",
      "Epoch 51/550\n",
      " 1/19 [>.............................] - ETA: 0s - loss: 0.0014 - accuracy: 1.0000\n",
      "Epoch 51: saving model to model/keypoint_classifier\\keypoint_classifier.hdf5\n",
      "19/19 [==============================] - 0s 6ms/step - loss: 0.0018 - accuracy: 0.9996 - val_loss: 0.0136 - val_accuracy: 0.9987\n",
      "Epoch 52/550\n",
      " 1/19 [>.............................] - ETA: 0s - loss: 0.0012 - accuracy: 1.0000\n",
      "Epoch 52: saving model to model/keypoint_classifier\\keypoint_classifier.hdf5\n",
      "19/19 [==============================] - 0s 6ms/step - loss: 0.0019 - accuracy: 0.9996 - val_loss: 0.0126 - val_accuracy: 0.9987\n",
      "Epoch 53/550\n",
      " 1/19 [>.............................] - ETA: 0s - loss: 0.0012 - accuracy: 1.0000\n",
      "Epoch 53: saving model to model/keypoint_classifier\\keypoint_classifier.hdf5\n",
      "19/19 [==============================] - 0s 6ms/step - loss: 0.0018 - accuracy: 0.9991 - val_loss: 0.0123 - val_accuracy: 0.9987\n",
      "Epoch 54/550\n",
      " 1/19 [>.............................] - ETA: 0s - loss: 5.4707e-04 - accuracy: 1.0000\n",
      "Epoch 54: saving model to model/keypoint_classifier\\keypoint_classifier.hdf5\n",
      "19/19 [==============================] - 0s 6ms/step - loss: 0.0016 - accuracy: 1.0000 - val_loss: 0.0132 - val_accuracy: 0.9974\n",
      "Epoch 54: early stopping\n"
     ]
    }
   ],
   "source": [
    "# save model to plot a curve of accuracy and loss after training\n",
    "history = model.fit(\n",
    "    X_train,\n",
    "    y_train,\n",
    "    epochs=550,\n",
    "    batch_size=128,\n",
    "    validation_data=(X_test, y_test),\n",
    "    callbacks=[cp_callback, es_callback]\n",
    ")"
   ]
  },
  {
   "attachments": {},
   "cell_type": "markdown",
   "id": "378218f9-ed39-44cb-bd46-01b9f5634d7e",
   "metadata": {},
   "source": [
    "## Model Evaluation"
   ]
  },
  {
   "attachments": {},
   "cell_type": "markdown",
   "id": "20f65f65-009c-4efa-8b7d-d325bd69be97",
   "metadata": {},
   "source": [
    "### Confusion Matrix"
   ]
  },
  {
   "cell_type": "code",
   "execution_count": 378,
   "id": "5a6b32b9-a69b-4c55-b2de-6d675a8656cf",
   "metadata": {},
   "outputs": [
    {
     "name": "stdout",
     "output_type": "stream",
     "text": [
      "25/25 [==============================] - 0s 1ms/step\n",
      "              precision    recall  f1-score   support\n",
      "\n",
      "           0       0.99      1.00      1.00       372\n",
      "           1       1.00      1.00      1.00       402\n",
      "\n",
      "    accuracy                           1.00       774\n",
      "   macro avg       1.00      1.00      1.00       774\n",
      "weighted avg       1.00      1.00      1.00       774\n",
      "\n",
      "[[372   0]\n",
      " [  2 400]]\n"
     ]
    }
   ],
   "source": [
    "Y_pred = model.predict(X_test)\n",
    "y_pred = np.argmax(Y_pred, axis=1)\n",
    "\n",
    "print(classification_report(y_test, y_pred))\n",
    "print(confusion_matrix(y_test, y_pred))"
   ]
  },
  {
   "attachments": {},
   "cell_type": "markdown",
   "id": "ed787056-a88b-4e99-b56f-caa76e818eaa",
   "metadata": {},
   "source": [
    "## TF-Lite Deployment"
   ]
  },
  {
   "attachments": {},
   "cell_type": "markdown",
   "id": "fbe48b07-7145-4ec4-831a-550635bd619a",
   "metadata": {},
   "source": [
    "#### Save the model (inference only)"
   ]
  },
  {
   "cell_type": "code",
   "execution_count": 379,
   "id": "ef7dfc1e-2179-4ed3-881c-f85c0beb63c5",
   "metadata": {},
   "outputs": [],
   "source": [
    "model.save(model_save_path, include_optimizer=False)"
   ]
  },
  {
   "attachments": {},
   "cell_type": "markdown",
   "id": "b06ebf22-b13f-49be-85a1-58238cfd335c",
   "metadata": {},
   "source": [
    "#### Model Quantization"
   ]
  },
  {
   "cell_type": "code",
   "execution_count": 380,
   "id": "42f1cc08-e835-4f34-b3ce-240f2e2bcab5",
   "metadata": {},
   "outputs": [
    {
     "name": "stdout",
     "output_type": "stream",
     "text": [
      "INFO:tensorflow:Assets written to: C:\\Users\\calgr\\AppData\\Local\\Temp\\tmpd5j_k_xp\\assets\n"
     ]
    },
    {
     "name": "stderr",
     "output_type": "stream",
     "text": [
      "INFO:tensorflow:Assets written to: C:\\Users\\calgr\\AppData\\Local\\Temp\\tmpd5j_k_xp\\assets\n"
     ]
    },
    {
     "data": {
      "text/plain": [
       "7600"
      ]
     },
     "execution_count": 380,
     "metadata": {},
     "output_type": "execute_result"
    }
   ],
   "source": [
    "# Model Quantization\n",
    "tflite_save_path = 'model/keypoint_classifier/keypoint_classifier.tflite'\n",
    "\n",
    "converter = tf.lite.TFLiteConverter.from_keras_model(model)\n",
    "converter.optimizations = [tf.lite.Optimize.DEFAULT]\n",
    "tflite_quantized_model = converter.convert()\n",
    "\n",
    "open(tflite_save_path, 'wb').write(tflite_quantized_model)"
   ]
  },
  {
   "attachments": {},
   "cell_type": "markdown",
   "id": "0318a85b-9ccf-423e-b654-a89aaa0b17c2",
   "metadata": {},
   "source": [
    "### Inference Test"
   ]
  },
  {
   "cell_type": "code",
   "execution_count": 381,
   "id": "b778ea7c-26d8-4353-8912-867842447cdf",
   "metadata": {},
   "outputs": [],
   "source": [
    "interpreter = tf.lite.Interpreter(model_path=tflite_save_path)\n",
    "interpreter.allocate_tensors()"
   ]
  },
  {
   "cell_type": "code",
   "execution_count": 382,
   "id": "0e0fe364-6b03-466f-bb64-ef59d525991b",
   "metadata": {},
   "outputs": [],
   "source": [
    "# Input, Output Tensors\n",
    "input_details = interpreter.get_input_details()\n",
    "output_details = interpreter.get_output_details()"
   ]
  },
  {
   "cell_type": "code",
   "execution_count": 383,
   "id": "85a6f6f8-da5f-4641-bb78-a64ba2e52644",
   "metadata": {},
   "outputs": [],
   "source": [
    "interpreter.set_tensor(input_details[0]['index'], np.array([X_test[0]]))"
   ]
  },
  {
   "attachments": {},
   "cell_type": "markdown",
   "id": "ccd28c7d-a463-4601-a0da-fa149e448592",
   "metadata": {},
   "source": [
    "### Inference Implementation"
   ]
  },
  {
   "cell_type": "code",
   "execution_count": 384,
   "id": "21760d85-870d-4550-91dd-6f8e611429c8",
   "metadata": {},
   "outputs": [
    {
     "name": "stdout",
     "output_type": "stream",
     "text": [
      "CPU times: total: 0 ns\n",
      "Wall time: 0 ns\n"
     ]
    }
   ],
   "source": [
    "%%time\n",
    "interpreter.invoke()\n",
    "tflite_results = interpreter.get_tensor(output_details[0]['index'])"
   ]
  },
  {
   "cell_type": "code",
   "execution_count": 385,
   "id": "a20bee9c-b9e9-450e-999d-ae86f2b7f563",
   "metadata": {},
   "outputs": [
    {
     "name": "stdout",
     "output_type": "stream",
     "text": [
      "[4.1402933e-07 9.9999964e-01]\n",
      "1\n"
     ]
    }
   ],
   "source": [
    "print(np.squeeze(tflite_results))\n",
    "print(np.argmax(np.squeeze(tflite_results)))"
   ]
  },
  {
   "attachments": {},
   "cell_type": "markdown",
   "id": "9580574d",
   "metadata": {},
   "source": [
    "## Download Model"
   ]
  },
  {
   "cell_type": "code",
   "execution_count": 386,
   "id": "b7980260",
   "metadata": {},
   "outputs": [
    {
     "data": {
      "text/plain": [
       "1"
      ]
     },
     "execution_count": 386,
     "metadata": {},
     "output_type": "execute_result"
    }
   ],
   "source": [
    "# !zip -r model.zip keypoint_classifier\n",
    "os.system(\"zip -r model.zip keypoint_classifier\")"
   ]
  },
  {
   "cell_type": "code",
   "execution_count": null,
   "id": "a895657d",
   "metadata": {},
   "outputs": [],
   "source": []
  }
 ],
 "metadata": {
  "kernelspec": {
   "display_name": "Python 3 (ipykernel)",
   "language": "python",
   "name": "python3"
  },
  "language_info": {
   "codemirror_mode": {
    "name": "ipython",
    "version": 3
   },
   "file_extension": ".py",
   "mimetype": "text/x-python",
   "name": "python",
   "nbconvert_exporter": "python",
   "pygments_lexer": "ipython3",
   "version": "3.10.11"
  },
  "toc-autonumbering": false,
  "toc-showcode": false,
  "toc-showmarkdowntxt": true,
  "toc-showtags": false
 },
 "nbformat": 4,
 "nbformat_minor": 5
}
